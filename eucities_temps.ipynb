{
 "cells": [
  {
   "cell_type": "code",
   "execution_count": null,
   "metadata": {},
   "outputs": [],
   "source": [
    "import pandas as pd\n",
    "import numpy as np\n",
    "from pandas import Series, DataFrame\n",
    "from matplotlib import pyplot as plt\n",
    "import random"
   ]
  },
  {
   "cell_type": "markdown",
   "metadata": {},
   "source": [
    "#### **PREPROCESSING AND ANALYSIS**"
   ]
  },
  {
   "cell_type": "markdown",
   "metadata": {},
   "source": [
    "#### [1] Fill in the missing latitude and longitude values by calculating the average for that country. Round the average to 2 decimal places\n"
   ]
  },
  {
   "cell_type": "code",
   "execution_count": null,
   "metadata": {},
   "outputs": [],
   "source": [
    "euCities = pd.read_csv('EuCitiesTemperatures.csv')\n",
    "df = DataFrame(euCities)\n",
    "country = round(df.groupby('country').mean(), 2)\n",
    "updated_df = df.copy()\n",
    "for index in updated_df.index:\n",
    "    if str(updated_df.loc[index, 'latitude']) == 'nan':\n",
    "        updated_df.loc[index, 'latitude'] = country['latitude'][updated_df.loc[index, 'country']]\n",
    "for index in updated_df.index:\n",
    "    if str(updated_df.loc[index, 'longitude']) == 'nan':\n",
    "        updated_df.loc[index, 'longitude'] = country['longitude'][updated_df.loc[index, 'country']]\n",
    "updated_df"
   ]
  },
  {
   "cell_type": "markdown",
   "metadata": {},
   "source": [
    "#### [2] Find out the subset of cities that lie between latitudes 40 to 60 (both inclusive) and longitudes 15 to 30 (both inclusive). Find out which countries have the maximum number of cities in this geographical band. (More than one country could have the maximum number of values.)"
   ]
  },
  {
   "cell_type": "code",
   "execution_count": null,
   "metadata": {},
   "outputs": [],
   "source": [
    "filteredDf = DataFrame(updated_df[(updated_df['latitude'] >= 40) & (updated_df['latitude'] <= 60) & (updated_df['longitude'] >= 15) & (updated_df['longitude']<=30)])\n",
    "country_frq_dict = filteredDf['country'].value_counts().to_dict()\n",
    "max_value = max(country_frq_dict.values())\n",
    "a = [k for k,v in country_frq_dict.items() if v == max_value]\n",
    "print('Countries that have the maximum number of cities in this geographical band is/are:')\n",
    "for i in a:\n",
    "    print(i)"
   ]
  },
  {
   "cell_type": "markdown",
   "metadata": {},
   "source": [
    "#### [3] Fill in the missing temperature values by the average temperature value of the similar region type. A region type would be a combinaton of whether it is in EU (yes/no) and whether it has a coastline (yes/no) \n"
   ]
  },
  {
   "cell_type": "code",
   "execution_count": null,
   "metadata": {},
   "outputs": [],
   "source": [
    "region = round(updated_df.groupby(['EU','coastline']).mean(), 2)\n",
    "for id, row in updated_df.iterrows():\n",
    "    tup = row.loc['EU'], row.loc['coastline']\n",
    "    value = region['temperature'][tup]\n",
    "    if pd.isnull(row['temperature']):\n",
    "        updated_df.loc[id, 'temperature'] = value\n",
    "updated_df"
   ]
  },
  {
   "cell_type": "markdown",
   "metadata": {},
   "source": [
    "#### **VISUALIZATION**"
   ]
  },
  {
   "cell_type": "markdown",
   "metadata": {},
   "source": [
    "#### [1] Plot a bar chart for the number of cities belonging to each of the regions described in Preprocessing/Analysis #3 above"
   ]
  },
  {
   "cell_type": "code",
   "execution_count": null,
   "metadata": {},
   "outputs": [],
   "source": [
    "region = updated_df.groupby(['EU','coastline']).count()\n",
    "region = region.reset_index()\n",
    "region.drop(columns = ['country', 'population', 'latitude', 'longitude', 'temperature'])\n",
    "plt.figure(figsize=(10,8))\n",
    "plt.bar(range(0,4), region['city'])\n",
    "plt.xticks(range(0,4), ['No No','No Yes', 'Yes No','Yes Yes'], fontsize = 13)\n",
    "plt.xlabel('Region', fontsize = 15)\n",
    "plt.ylabel('Number of Cities', fontsize =15)\n",
    "plt.show()"
   ]
  },
  {
   "cell_type": "markdown",
   "metadata": {},
   "source": [
    "#### [2] Plot a scatter plot of latitude (y-axis) v/s longitude (x-axis) values to get a map-like visual of the cities under consideration. All the cities in the same country should have the same color"
   ]
  },
  {
   "cell_type": "code",
   "execution_count": null,
   "metadata": {},
   "outputs": [],
   "source": [
    "fig, ax = plt.subplots(1,1)\n",
    "fig.set_size_inches(20,20)\n",
    "country_types = updated_df['country'].unique()\n",
    "colors= []\n",
    "for i in range(0,37):\n",
    "    r = random.random()\n",
    "    g = random.random()\n",
    "    b = random.random()\n",
    "    colors.append((r,g,b))\n",
    "for country, color in zip(country_types, colors):\n",
    "    df = updated_df[updated_df['country'] == country]    \n",
    "    df.plot('longitude','latitude',ax=ax,kind='scatter',color=color, label =country)\n",
    "    plt.xticks(range(-10, 60,10))"
   ]
  },
  {
   "cell_type": "markdown",
   "metadata": {},
   "source": [
    "#### [3] The population column contains values unique to each country. So two cities of the same country will show the same population value. Plot a histogram of the number of countries belonging to each population group: split the population values into 5 bins (groups)"
   ]
  },
  {
   "cell_type": "code",
   "execution_count": null,
   "metadata": {},
   "outputs": [],
   "source": [
    "region2 = updated_df.groupby(['EU','coastline', 'country']).mean()\n",
    "l = list(region2['population'])\n",
    "plt.hist(l, color = 'blue',  bins = 5, edgecolor = 'black')\n",
    "plt.xlabel('Population', fontsize = 13)\n",
    "plt.ylabel('Number of countries',fontsize = 13)\n",
    "plt.xticks(range(0,86, 17))\n",
    "plt.yticks(range(0,31,5))\n",
    "plt.show()"
   ]
  },
  {
   "cell_type": "markdown",
   "metadata": {},
   "source": [
    "#### [4] Plot subplots (2, 2), with proper titles, one each for the region types described in Preprocessing/Analysis #3 above\n",
    "##### Each subplot should be a scatter plot of Latitude (y-axis) vs. City (x-axis), where the color of the plot points should be based on the temperature values: ‘red’ for temperatures above 10, ‘blue’ for temperatures below 6 and ‘orange for temperatures between 6 and 10 (both inclusive). For each subplot, set xticks to an array of numbers from 0 to n-1 (both inclusive), where n is the total number of cities in each region type. This represents each city as a number between 0 and n-1"
   ]
  },
  {
   "cell_type": "code",
   "execution_count": null,
   "metadata": {},
   "outputs": [],
   "source": [
    "def get_region(region, i, j):\n",
    "    res_df = pd.DataFrame()\n",
    "    if i == 0:\n",
    "        if j == 0:\n",
    "            res_df = region[(region['EU'] == 'no') & (region['coastline']=='no')]\n",
    "        elif j == 1:\n",
    "            res_df = region[(region['EU'] == 'no') & (region['coastline']=='yes')]\n",
    "    elif i == 1:\n",
    "        if j == 0:\n",
    "            res_df = region[(region['EU'] == 'yes') & (region['coastline']=='no')]\n",
    "        elif j == 1:\n",
    "            res_df = region[(region['EU'] == 'yes') & (region['coastline']=='yes')]\n",
    "    return res_df\n",
    "fig, axes = plt.subplots(2,2)\n",
    "fig.set_size_inches(15,15)\n",
    "region = updated_df.groupby(['EU','coastline', 'city']).mean()\n",
    "region = region.reset_index()\n",
    "\n",
    "colors = ['blue', 'red', 'orange']\n",
    "\n",
    "for i in range(0,2):\n",
    "    for j in range(0,2):\n",
    "        df = get_region(region, i, j)\n",
    "        n = df['city'].count()\n",
    "        for color in colors:\n",
    "            if(color == 'blue'):\n",
    "                df2 = df[df['temperature'] < 6.0]\n",
    "            elif(color == 'red'):\n",
    "                df2 = df[df['temperature'] > 10.0]\n",
    "            elif(color == 'orange'):\n",
    "                df2 = df[ (df['temperature'] >= 6.0) & (df['temperature'] <= 10.0) ] \n",
    "            df2.plot('city','latitude', kind = 'scatter', ax = axes[i][j], color = color)\n",
    "        plt.sca(axes[i][j])\n",
    "        plt.xticks(range(n), np.arange(0,n,1))\n",
    "axes[0][0].set_title('Not EU and Not Near Coastline')\n",
    "axes[0][1].set_title('Not EU and Near Coastline')\n",
    "axes[1][0].set_title('EU and Not Near Coastline')\n",
    "axes[1][1].set_title('EU and Near Coastline')\n",
    "plt.show()\n",
    "\n",
    "# We fill our graphs with blue cities first, then reds, then oranges. Hence the pattern below."
   ]
  },
  {
   "cell_type": "code",
   "execution_count": null,
   "metadata": {},
   "outputs": [],
   "source": [
    "print(pd.__version__)\n"
   ]
  },
  {
   "cell_type": "code",
   "execution_count": null,
   "metadata": {},
   "outputs": [],
   "source": [
    "pip install --upgrade pandas"
   ]
  },
  {
   "cell_type": "code",
   "execution_count": null,
   "metadata": {},
   "outputs": [],
   "source": []
  }
 ],
 "metadata": {
  "kernelspec": {
   "display_name": "Python 3",
   "language": "python",
   "name": "python3"
  },
  "language_info": {
   "codemirror_mode": {
    "name": "ipython",
    "version": 3
   },
   "file_extension": ".py",
   "mimetype": "text/x-python",
   "name": "python",
   "nbconvert_exporter": "python",
   "pygments_lexer": "ipython3",
   "version": "3.8.5"
  }
 },
 "nbformat": 4,
 "nbformat_minor": 4
}
